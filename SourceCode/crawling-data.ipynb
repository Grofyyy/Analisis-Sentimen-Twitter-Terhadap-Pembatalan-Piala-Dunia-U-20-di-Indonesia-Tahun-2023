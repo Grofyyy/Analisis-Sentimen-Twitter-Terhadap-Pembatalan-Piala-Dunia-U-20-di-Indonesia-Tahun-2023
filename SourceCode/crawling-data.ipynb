{
 "cells": [
  {
   "cell_type": "code",
   "execution_count": 1,
   "id": "3eaa684e",
   "metadata": {},
   "outputs": [],
   "source": [
    "import snscrape.modules.twitter as sntwitter\n",
    "import pandas as pd"
   ]
  },
  {
   "cell_type": "code",
   "execution_count": 16,
   "id": "88ba2f0a",
   "metadata": {},
   "outputs": [
    {
     "name": "stdout",
     "output_type": "stream",
     "text": [
      "{'url': 'https://twitter.com/torayalellek/status/1641228656898113536', 'date': datetime.datetime(2023, 3, 29, 23, 59, 39, tzinfo=datetime.timezone.utc), 'rawContent': 'Akhirnya Indonesia didepak sebagai tuan rumah Piala Dunia U-20\\n\\nUsaha si Ganjar, si Koster, parpol dan ormas anti Israel PDIP, PKS, MUI,PA212 tidak sia-sia', 'renderedContent': 'Akhirnya Indonesia didepak sebagai tuan rumah Piala Dunia U-20\\n\\nUsaha si Ganjar, si Koster, parpol dan ormas anti Israel PDIP, PKS, MUI,PA212 tidak sia-sia', 'id': 1641228656898113536, 'user': User(username='torayalellek', id=206697239, displayname='Sangmane 🇺🇦🕊', rawDescription='Ora et Labora (Yakobus 2:17)', renderedDescription='Ora et Labora (Yakobus 2:17)', descriptionLinks=None, verified=False, created=datetime.datetime(2010, 10, 23, 14, 29, 58, tzinfo=datetime.timezone.utc), followersCount=2045, friendsCount=1886, statusesCount=14520, favouritesCount=10813, listedCount=1, mediaCount=528, location='Indonesia', protected=False, link=None, profileImageUrl='https://pbs.twimg.com/profile_images/1517460058149638145/2hLSsM64_normal.jpg', profileBannerUrl='https://pbs.twimg.com/profile_banners/206697239/1672385442', label=None), 'replyCount': 0, 'retweetCount': 0, 'likeCount': 0, 'quoteCount': 0, 'conversationId': 1641228656898113536, 'lang': 'in', 'source': '<a href=\"http://twitter.com/download/android\" rel=\"nofollow\">Twitter for Android</a>', 'sourceUrl': 'http://twitter.com/download/android', 'sourceLabel': 'Twitter for Android', 'links': None, 'media': None, 'retweetedTweet': None, 'quotedTweet': Tweet(url='https://twitter.com/fifamedia/status/1641094645978394624', date=datetime.datetime(2023, 3, 29, 15, 7, 8, tzinfo=datetime.timezone.utc), rawContent='FIFA removes Indonesia as host of FIFA U-20 World Cup 2023™\\n\\n⬇️ https://t.co/ttAlT2fRLP', renderedContent='FIFA removes Indonesia as host of FIFA U-20 World Cup 2023™\\n\\n⬇️ fifa.com/about-fifa/org…', id=1641094645978394624, user=User(username='fifamedia', id=284003990, displayname='FIFA Media', rawDescription='The FIFA Media department is based at the FIFA headquarters in Zurich, Switzerland. It is responsible for handling media communication and operations for FIFA.', renderedDescription='The FIFA Media department is based at the FIFA headquarters in Zurich, Switzerland. It is responsible for handling media communication and operations for FIFA.', descriptionLinks=None, verified=True, created=datetime.datetime(2011, 4, 18, 12, 48, 51, tzinfo=datetime.timezone.utc), followersCount=394736, friendsCount=644, statusesCount=9779, favouritesCount=1055, listedCount=2308, mediaCount=2033, location='Zurich, Switzerland', protected=False, link=TextLink(text='fifa.com', url='http://www.fifa.com', tcourl='https://t.co/4zw1xkw25o', indices=(0, 23)), profileImageUrl='https://pbs.twimg.com/profile_images/1542773516768092166/Q0Z4MSWv_normal.jpg', profileBannerUrl='https://pbs.twimg.com/profile_banners/284003990/1398372735', label=None), replyCount=2919, retweetCount=6838, likeCount=13000, quoteCount=6854, conversationId=1641094645978394624, lang='en', source='<a href=\"https://mobile.twitter.com\" rel=\"nofollow\">Twitter Web App</a>', sourceUrl='https://mobile.twitter.com', sourceLabel='Twitter Web App', links=[TextLink(text='fifa.com/about-fifa/org…', url='https://www.fifa.com/about-fifa/organisation/media-releases/fifa-removes-indonesia-as-host-of-fifa-u-20-world-cup-2023-tm', tcourl='https://t.co/ttAlT2fRLP', indices=(64, 87))], media=None, retweetedTweet=None, quotedTweet=None, inReplyToTweetId=None, inReplyToUser=None, mentionedUsers=None, coordinates=None, place=None, hashtags=None, cashtags=None, card=SummaryCard(title='FIFA removes Indonesia as host of FIFA U-20 World Cup 2023™', url='https://www.fifa.com/about-fifa/organisation/media-releases/fifa-removes-indonesia-as-host-of-fifa-u-20-world-cup-2023-tm', description='Following today’s meeting between FIFA President Gianni Infantino and President of the Football Association of Indonesia Erick Thohir, FIFA has decided, due to the current circumstances, to remove...', thumbnailUrl='https://pbs.twimg.com/card_img/1641094185020432385/b8Q6TGBO?format=png&name=orig', siteUser=None, creatorUser=None), viewCount=7315147, vibe=None), 'inReplyToTweetId': None, 'inReplyToUser': None, 'mentionedUsers': None, 'coordinates': None, 'place': None, 'hashtags': None, 'cashtags': None, 'card': None, 'viewCount': 58, 'vibe': None}\n"
     ]
    }
   ],
   "source": [
    "query = \"piala dunia U 20 gagal lang:id until:2023-03-30 since:2023-03-15 \"\n",
    "\n",
    "for tweet in sntwitter.TwitterSearchScraper(query).get_items():\n",
    "    \n",
    "    print(vars(tweet))\n",
    "    break"
   ]
  },
  {
   "cell_type": "code",
   "execution_count": 9,
   "id": "6ed4d6a7",
   "metadata": {},
   "outputs": [],
   "source": [
    "# Creating list to append tweet data \n",
    "query = \"piala dunia u 20 batal lang:id until:2023-04-06 since:2023-03-30\"\n",
    "tweets_list1 = []\n",
    "\n",
    "# Using TwitterSearchScraper to scrape data and append tweets to list\n",
    "for i,tweet in enumerate(sntwitter.TwitterSearchScraper(query).get_items()):\n",
    "    if i>10000000000: #number of tweets you want to scrape\n",
    "        break\n",
    "    tweets_list1.append([tweet.date, tweet.user.username, tweet.rawContent]) #declare the attributes to be returned\n",
    "    \n",
    "# Creating a dataframe from the tweets list above \n",
    "df = pd.DataFrame(tweets_list1, columns=['Datetime','Username', 'Text'])"
   ]
  },
  {
   "cell_type": "code",
   "execution_count": 3,
   "id": "41836e47",
   "metadata": {},
   "outputs": [
    {
     "data": {
      "text/html": [
       "<div>\n",
       "<style scoped>\n",
       "    .dataframe tbody tr th:only-of-type {\n",
       "        vertical-align: middle;\n",
       "    }\n",
       "\n",
       "    .dataframe tbody tr th {\n",
       "        vertical-align: top;\n",
       "    }\n",
       "\n",
       "    .dataframe thead th {\n",
       "        text-align: right;\n",
       "    }\n",
       "</style>\n",
       "<table border=\"1\" class=\"dataframe\">\n",
       "  <thead>\n",
       "    <tr style=\"text-align: right;\">\n",
       "      <th></th>\n",
       "      <th>Datetime</th>\n",
       "      <th>Username</th>\n",
       "      <th>Text</th>\n",
       "    </tr>\n",
       "  </thead>\n",
       "  <tbody>\n",
       "    <tr>\n",
       "      <th>0</th>\n",
       "      <td>2023-04-05 23:57:19+00:00</td>\n",
       "      <td>halintarbungkam</td>\n",
       "      <td>@ch_chotimah2 @Dennysiregar7 @erickthohir @jok...</td>\n",
       "    </tr>\n",
       "    <tr>\n",
       "      <th>1</th>\n",
       "      <td>2023-04-05 23:54:25+00:00</td>\n",
       "      <td>kirarachelsea</td>\n",
       "      <td>Gagalnya perhelatan piala dunia U-20 di Indone...</td>\n",
       "    </tr>\n",
       "    <tr>\n",
       "      <th>2</th>\n",
       "      <td>2023-04-05 23:29:31+00:00</td>\n",
       "      <td>teodorikgultom</td>\n",
       "      <td>@tatakujiyati Tapi @aniesbaswedan kan sering m...</td>\n",
       "    </tr>\n",
       "    <tr>\n",
       "      <th>3</th>\n",
       "      <td>2023-04-05 23:22:27+00:00</td>\n",
       "      <td>03__nakula</td>\n",
       "      <td>Dicoret sebagai tuan rumah piala dunia U-20, b...</td>\n",
       "    </tr>\n",
       "    <tr>\n",
       "      <th>4</th>\n",
       "      <td>2023-04-05 23:18:25+00:00</td>\n",
       "      <td>Aprilia_wiji</td>\n",
       "      <td>Ketua umum Erick Thohir mengungkapkan alasan F...</td>\n",
       "    </tr>\n",
       "    <tr>\n",
       "      <th>...</th>\n",
       "      <td>...</td>\n",
       "      <td>...</td>\n",
       "      <td>...</td>\n",
       "    </tr>\n",
       "    <tr>\n",
       "      <th>14802</th>\n",
       "      <td>2023-03-30 00:01:26+00:00</td>\n",
       "      <td>PRFMnews</td>\n",
       "      <td>Piala Dunia U-20 Batal Digelar di Indonesia ht...</td>\n",
       "    </tr>\n",
       "    <tr>\n",
       "      <th>14803</th>\n",
       "      <td>2023-03-30 00:00:41+00:00</td>\n",
       "      <td>CNNIndonesia</td>\n",
       "      <td>4 Tahun Perjuangan Indonesia Jadi Tuan Rumah P...</td>\n",
       "    </tr>\n",
       "    <tr>\n",
       "      <th>14804</th>\n",
       "      <td>2023-03-30 00:00:08+00:00</td>\n",
       "      <td>Eka12Febby</td>\n",
       "      <td>@Metro_TV 3043 guru PI PPPK se-Indonesia dan T...</td>\n",
       "    </tr>\n",
       "    <tr>\n",
       "      <th>14805</th>\n",
       "      <td>2023-03-30 00:00:01+00:00</td>\n",
       "      <td>Bolanet</td>\n",
       "      <td>Pemain Timnas Indonesia U-20 ramai-ramai tumpa...</td>\n",
       "    </tr>\n",
       "    <tr>\n",
       "      <th>14806</th>\n",
       "      <td>2023-03-30 00:00:00+00:00</td>\n",
       "      <td>voidotid</td>\n",
       "      <td>Politikus PDIP Budiman Sudjatmiko mengatakan, ...</td>\n",
       "    </tr>\n",
       "  </tbody>\n",
       "</table>\n",
       "<p>14807 rows × 3 columns</p>\n",
       "</div>"
      ],
      "text/plain": [
       "                        Datetime         Username  \\\n",
       "0      2023-04-05 23:57:19+00:00  halintarbungkam   \n",
       "1      2023-04-05 23:54:25+00:00    kirarachelsea   \n",
       "2      2023-04-05 23:29:31+00:00   teodorikgultom   \n",
       "3      2023-04-05 23:22:27+00:00       03__nakula   \n",
       "4      2023-04-05 23:18:25+00:00     Aprilia_wiji   \n",
       "...                          ...              ...   \n",
       "14802  2023-03-30 00:01:26+00:00         PRFMnews   \n",
       "14803  2023-03-30 00:00:41+00:00     CNNIndonesia   \n",
       "14804  2023-03-30 00:00:08+00:00       Eka12Febby   \n",
       "14805  2023-03-30 00:00:01+00:00          Bolanet   \n",
       "14806  2023-03-30 00:00:00+00:00         voidotid   \n",
       "\n",
       "                                                    Text  \n",
       "0      @ch_chotimah2 @Dennysiregar7 @erickthohir @jok...  \n",
       "1      Gagalnya perhelatan piala dunia U-20 di Indone...  \n",
       "2      @tatakujiyati Tapi @aniesbaswedan kan sering m...  \n",
       "3      Dicoret sebagai tuan rumah piala dunia U-20, b...  \n",
       "4      Ketua umum Erick Thohir mengungkapkan alasan F...  \n",
       "...                                                  ...  \n",
       "14802  Piala Dunia U-20 Batal Digelar di Indonesia ht...  \n",
       "14803  4 Tahun Perjuangan Indonesia Jadi Tuan Rumah P...  \n",
       "14804  @Metro_TV 3043 guru PI PPPK se-Indonesia dan T...  \n",
       "14805  Pemain Timnas Indonesia U-20 ramai-ramai tumpa...  \n",
       "14806  Politikus PDIP Budiman Sudjatmiko mengatakan, ...  \n",
       "\n",
       "[14807 rows x 3 columns]"
      ]
     },
     "execution_count": 3,
     "metadata": {},
     "output_type": "execute_result"
    }
   ],
   "source": [
    "df"
   ]
  },
  {
   "cell_type": "code",
   "execution_count": 8,
   "id": "ef0a7b95",
   "metadata": {},
   "outputs": [],
   "source": [
    "df.to_csv(\"/Users/arman/Skripsi/Dataset/BigData/RawData/Piala-Dunia-20223-FIX-noFilter.csv\", index=False)"
   ]
  }
 ],
 "metadata": {
  "kernelspec": {
   "display_name": "Python 3 (ipykernel)",
   "language": "python",
   "name": "python3"
  },
  "language_info": {
   "codemirror_mode": {
    "name": "ipython",
    "version": 3
   },
   "file_extension": ".py",
   "mimetype": "text/x-python",
   "name": "python",
   "nbconvert_exporter": "python",
   "pygments_lexer": "ipython3",
   "version": "3.10.9"
  }
 },
 "nbformat": 4,
 "nbformat_minor": 5
}
